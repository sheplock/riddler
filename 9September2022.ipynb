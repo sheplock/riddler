{
 "cells": [
  {
   "cell_type": "markdown",
   "id": "d305fbf8",
   "metadata": {},
   "source": [
    "## https://fivethirtyeight.com/features/can-you-cover-the-baking-sheet-with-cookies/\n",
    "\n",
    "### Express\n",
    "\n",
    "In last week’s Battle for Riddler Nation, you had to assign 100 phalanxes of soldiers to 10 castles, each worth a distinct number of points. For example, you could assign all 100 phalanxes to a single castle (and none to the others), split them evenly so that there were 10 phalanxes at every castle or arrange them in some other way.\n",
    "\n",
    "What was the total possible number of strategies you could have submitted?\n",
    "\n",
    "#### Solution\n",
    "\n",
    "I will work out 2 solutions for this problem because it is not explicitly stated whether there must be <em>exactly</em> 100 phalanxes deployed or just at most 100. I think the spirit of the question is exactly 100, but for completeness I'll work out both.\n",
    "\n",
    "Taking each castle in turn, first I send some troops to the first castle. I have 100 phalanxes to work with, so I could send anywhere from 0 to 100. If I send 0 then the 100 are split amongst the other 9 castles, but if I send 100 then the rest of the castles must have 0. For the next castle, I can assign between 0 and $100 - x_1$, where $x_1$ is the number of phalanxes used at castle 1. This will continue for the rest of the castles, so at the $n$th castle the maximum number of phalanxes I can assign is: $$ 100 - \\sum_{k=1}^{n-1} x_k $$"
   ]
  },
  {
   "cell_type": "markdown",
   "id": "b05aff8d",
   "metadata": {},
   "source": [
    "The difference between the 2 solutions comes at the final castle. If the number of phalanxes must total exactly 100, then the number I send to the final castle is given by the other castles, where castle 10 must get exactly $ 100 - \\sum_{k=1}^{9} x_k $. However, if I can have any configuration of at most 100 phalanxes, then castle 10 can be between 0 and that upper limit."
   ]
  },
  {
   "cell_type": "markdown",
   "id": "665f0c93",
   "metadata": {},
   "source": [
    "Before handling the 10 castle problem, let's warm up with an easier problem.\n",
    "\n",
    "For the case of 2 castles, if the total number must be exactly 100 then there are 101 possible configuratios: castle 1 can receive between 0 and 100 phalanxes, and castle 2 receives the rest. If the total number just has to be less than or equal to 100 then the total number of possibilities is given by:\n",
    "\n",
    " $$ \\sum_{x_1 = 0}^{100} \\sum_{x_2 = 0}^{100-x_1} 1 $$\n",
    " \n",
    " The '1' here just comes from each term being one additional possible configuration. The number of terms from $[a,b]$ is just $b - a + 1$, so the sum becomes:\n",
    " \n",
    "$$ \\sum_{x_1 = 0}^{100} 101 - x_1 $$\n",
    "\n",
    "The first term is going to gives us 101 times 101, the number of terms in the sum. The sum from $n=a$ to $n=b$ of $n$ is given by $\\frac{1}{2} (b - a + 1) (a+b)$ so we get:\n",
    "\n",
    "$$ 101*101 - \\frac{1}{2}*(101)*(100) = 5151 $$\n",
    "\n",
    "Another way of simplifying this term is with the result that the sum from $n=a$ to $n=b$ of $(m - n)$ is $\\frac{1}{2} (b - a + 1) (2m - a - b)$. With $a = 0, b = 100, m = 101$ we get 5151, as expected."
   ]
  },
  {
   "cell_type": "markdown",
   "id": "0be39496",
   "metadata": {},
   "source": [
    "Now, if I move on to 3 castles, I note that the case of 3 castles with assigned phalanxes exactly totaling 100 is the same as if I had 2 castles totaling at most 100 phalanxes. In the 3 castle situation, the last castle is just filled with the remaining phalanxes, and there are no additional possible configurations. So for 3 castles exactly totaling 100 phalanxes, the number of possible configurations is 5151.\n",
    "\n",
    "Now, I will move to the actual problem of 10 castles. To make things a bit easier I will make some redefinitions.\n",
    "\n",
    "Let $x_i$ be the number of phalanxes assigned to castle $i$. Let $y_i = \\sum_{k=1}^{i} x_k$, i.e. the total number of phalanxes assigned to castles 1 through $i$. Then, the maximum phalanxes that can be assigned to castle $j$ is $100 - y_{j-1}$. Also note that when $x_i = 0$, then $y_i = y_{i-1}$, and when $x_i = 100 - y_{i-1}$, then $y_i = y_{i-1} + x_i = 100$. So when $x_i$ ranges from $x_i=0$ to $x_i = 100 - y_{i-1}$, then $y_i$ ranges from $y_i = y_{i-1}$ to $y_i=100$. This makes sense since $y_i$ is the total phalanxes assigned up to and including castle $i$ so if there no phalanxes assigned then $y_i$ doesn't increase, and if the maximum allowed phalanxes are assigned then we have assigned all 100. \n",
    "\n",
    "Using these definitions, the total number of possible configurations of exactly 100 phalanxes assigned to 10 castles is:\n",
    "\n",
    "$$ \\sum_{x_1 = 0}^{100} \\sum_{y_2 = y_1}^{100} \\sum_{y_3 = y_2}^{100} \\sum_{y_4 = y_3}^{100} \\sum_{y_5 = y_4}^{100} \\sum_{y_6 = y_5}^{100} \\sum_{y_7 = y_6}^{100} \\sum_{y_8 = y_7}^{100} \\sum_{y_9 = y_8}^{100} 1 $$\n",
    "\n",
    "This gives the arrangements of phalanxes at castles 1 through 9, which sets the number of phalanxes at castle 10. Using the results from the above sums, this becomes:\n",
    "\n",
    "\\begin{align*}\n",
    "& \\sum_{y_1 = 0}^{100} \\sum_{y_2 = y_1}^{100} \\sum_{y_3 = y_2}^{100} \\sum_{y_4 = y_3}^{100} \\sum_{y_5 = y_4}^{100} \\sum_{y_6 = y_5}^{100} \\sum_{y_7 = y_6}^{100} \\sum_{y_8 = y_7}^{100} 101 - y_8 \\\\\n",
    " = & \\sum_{x_1 = 0}^{100} \\sum_{y_2 = y_1}^{100} \\sum_{y_3 = y_2}^{100} \\sum_{y_4 = y_3}^{100} \\sum_{y_5 = y_4}^{100} \\sum_{y_6 = y_5}^{100} \\sum_{y_7 = y_6}^{100} \\sum_{y_8 = y_7}^{100} \\frac{1}{2} (101 - y_7) (102 - y_7)\n",
    "\\end{align*}\n",
    "\n",
    "From here, I must take each term and get the value of the sum from Mathematica. In doing this, I notice that each sum adds a term of the form $\\frac{1}{n}(100 + n - y_{9-n})$. I don't know why this is but I just note the pattern as I get to the final answer:\n",
    "\n",
    "$$ \\frac{1}{8!} \\sum_{y_1 = 0}^{100} (108 - y_1) (107 - y_1) (106 - y_1) (105 - y_1) (104 - y_1) (103 - y_1) (102 - y_1) (101 - y_1) = 4,263,421,511,271 $$"
   ]
  },
  {
   "cell_type": "markdown",
   "id": "479b865d",
   "metadata": {},
   "source": [
    "The number of possible configurations is over 4 trillion!\n",
    "\n",
    "If I add even more possibilities by not requiring that the sum is exactly 100, just no more than 100, then this adds another term to the sum, so I have an additional $(109 - y_1)$ before evaluating the sum. The result in this case is $46,897,636,623,981$, over 46 trillion, greater than a 10x increase!"
   ]
  },
  {
   "cell_type": "code",
   "execution_count": null,
   "id": "973ad5dd",
   "metadata": {},
   "outputs": [],
   "source": []
  }
 ],
 "metadata": {
  "kernelspec": {
   "display_name": "Python 3 (ipykernel)",
   "language": "python",
   "name": "python3"
  },
  "language_info": {
   "codemirror_mode": {
    "name": "ipython",
    "version": 3
   },
   "file_extension": ".py",
   "mimetype": "text/x-python",
   "name": "python",
   "nbconvert_exporter": "python",
   "pygments_lexer": "ipython3",
   "version": "3.9.12"
  }
 },
 "nbformat": 4,
 "nbformat_minor": 5
}
