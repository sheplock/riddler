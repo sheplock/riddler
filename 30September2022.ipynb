{
 "cells": [
  {
   "cell_type": "markdown",
   "id": "cd544204",
   "metadata": {},
   "source": [
    "## https://fivethirtyeight.com/features/can-you-crack-the-safe/\n",
    "\n",
    "### Express\n",
    "\n",
    "I’m cracking a safe with a two-digit passcode. (It’s not a very secure safe.) Both digits are between 0 and 9, and when I type in each digit, that digit is shown via a standard seven-segment display. Only the most recent digit I enter shows up on the single-digit display.\n",
    "\n",
    "By pressing two different digits at the same time, the safe will give me the benefit of the doubt and open if either ordering of the digits is the correct passcode. For example, if I press the 1 and the 2 at the same time, the safe will open if the passcode is either “12” or “21.”\n",
    "\n",
    "Finally, I note that the display isn’t functioning perfectly. Any segment that is part of a number in the passcode appears to be slightly faded. This fade is visible even when the segment isn’t lit. And any segment that is part of both digits (if there are any such segments) is twice as faded.\n",
    "\n",
    "Unfortunately, after some mental math, I realize that I still don’t have enough information to open the safe with confidence.\n",
    "\n",
    "What are all the possible two-digit passcodes for the safe?"
   ]
  },
  {
   "cell_type": "markdown",
   "id": "400e46e9",
   "metadata": {},
   "source": [
    "#### Solution\n",
    "\n",
    "First, map the segments that are lit for each digit. The map will be a length 7 array that will be filled with a 1 if the corresponding segment is lit up by that digit, otherwise it will be 0. The segments of the display will be labeled starting at the top, working around clockwise, with the center segment being the final value.\n",
    "\n",
    "For example, $0 = [1,1,1,1,1,1,0]$ and $1 = [0,1,1,0,0,0,0]$."
   ]
  },
  {
   "cell_type": "code",
   "execution_count": 2,
   "id": "afe6d84c",
   "metadata": {},
   "outputs": [],
   "source": [
    "import numpy as np"
   ]
  },
  {
   "cell_type": "code",
   "execution_count": 3,
   "id": "b8f8230b",
   "metadata": {},
   "outputs": [],
   "source": [
    "litSegments = {\n",
    "    0: [1,1,1,1,1,1,0],\n",
    "    1: [0,1,1,0,0,0,0],\n",
    "    2: [1,1,0,1,1,0,1],\n",
    "    3: [1,1,1,1,0,0,1],\n",
    "    4: [0,1,1,0,0,1,1],\n",
    "    5: [1,0,1,1,0,1,1],\n",
    "    6: [1,0,1,1,1,1,1],\n",
    "    7: [1,1,1,0,0,0,0],\n",
    "    8: [1,1,1,1,1,1,1],\n",
    "    9: [1,1,1,1,0,1,1]\n",
    "}"
   ]
  },
  {
   "cell_type": "code",
   "execution_count": 26,
   "id": "d6f38148",
   "metadata": {},
   "outputs": [],
   "source": [
    "def segmentsToNum(segs):\n",
    "    if len(segs) != 7:\n",
    "        print('Error! Array should be length 7!')\n",
    "        return -1\n",
    "    else:\n",
    "        num = 0\n",
    "        for i in range(len(segs)):\n",
    "            num += segs[i]*10**i\n",
    "        return num\n",
    "def numToSegments(num):\n",
    "    if num > 2222222:\n",
    "        print('Error! Number should be <= 2222222!')\n",
    "        return -1*np.ones(7)\n",
    "    else:\n",
    "        segs = np.zeros(7)\n",
    "        for i in range(7):\n",
    "            segs[i] = num // 10**i % 10\n",
    "        return segs"
   ]
  },
  {
   "cell_type": "code",
   "execution_count": 27,
   "id": "5c591ac9",
   "metadata": {},
   "outputs": [],
   "source": [
    "combinationSegments = {}\n",
    "for i in range(0,10):\n",
    "    for j in range(i,10):\n",
    "        combo = np.array(litSegments[i]) + np.array(litSegments[j])\n",
    "        comboVal = segmentsToNum(combo)\n",
    "        if not comboVal in combinationSegments.keys():\n",
    "            combinationSegments[comboVal] = [(i,j)]\n",
    "        else:\n",
    "            combinationSegments[comboVal].append((i,j))"
   ]
  },
  {
   "cell_type": "code",
   "execution_count": 50,
   "id": "c3dfb7eb",
   "metadata": {},
   "outputs": [
    {
     "name": "stdout",
     "output_type": "stream",
     "text": [
      "[2. 1. 2. 2. 1. 2. 2.] [(5, 8), (6, 9)]\n"
     ]
    }
   ],
   "source": [
    "for key, val in combinationSegments.items():\n",
    "    if len(val) > 1:\n",
    "        print(numToSegments(key), val)"
   ]
  },
  {
   "cell_type": "markdown",
   "id": "eef5c424",
   "metadata": {},
   "source": [
    "The only combinations of 2 digits that give the same exact pattern are (5, 8) and (6, 9). All segments are doubly faded except for #1 ('B', top right) and #4 ('E', bottom left), which are faded once."
   ]
  },
  {
   "cell_type": "code",
   "execution_count": null,
   "id": "c92c5a05",
   "metadata": {},
   "outputs": [],
   "source": []
  }
 ],
 "metadata": {
  "kernelspec": {
   "display_name": "Python 3 (ipykernel)",
   "language": "python",
   "name": "python3"
  },
  "language_info": {
   "codemirror_mode": {
    "name": "ipython",
    "version": 3
   },
   "file_extension": ".py",
   "mimetype": "text/x-python",
   "name": "python",
   "nbconvert_exporter": "python",
   "pygments_lexer": "ipython3",
   "version": "3.9.12"
  }
 },
 "nbformat": 4,
 "nbformat_minor": 5
}
