{
 "cells": [
  {
   "cell_type": "markdown",
   "id": "08ae38bf",
   "metadata": {},
   "source": [
    "## https://fivethirtyeight.com/features/can-you-build-the-biggest-anigram/\n",
    "\n",
    "### Riddler Express\n",
    "\n",
    "You are driving from Riddler City to Puzzletown, which are separated by 1,500 miles of highway. On a full charge, your electric car can drive for 500 miles before it needs a recharge. Fortunately, the highway has charging stations every 250 miles, with the first in Riddler City and the last in Puzzletown.\n",
    "\n",
    "Once you commit to charging your car at a station, you must wait until it is fully charged. For the purposes of this riddle, put aside anything you know about electronics and assume that the charging occurs at a constant rate. Also, assume that you can comfortably roll into a charging station just as your car runs out of power and recharge it there.\n",
    "\n",
    "You begin your journey with a full charge. Before heading out, you want to come up with an itinerary for which charging stations you’ll stop at along the way. Being impatient, you also want to arrive in Puzzletown as quickly as possible, meaning you want to minimize the time spent waiting at charging stations.\n",
    "\n",
    "How many distinct itineraries are possible?"
   ]
  },
  {
   "cell_type": "markdown",
   "id": "9cb87db8",
   "metadata": {},
   "source": [
    "#### Solution\n",
    "\n",
    "There are 7 total charging stations - one in Riddler City, one in Puzzletown, and six along the way (at 250, 500, 750, 1000, 1250 miles from Riddler City). Let's number these 0 to 6. We will always charge up fully (since we must) in Riddler City, and since the last station is in Puzzletown it doesn't matter whether we need to charge there or not. So we are really just worried about which of 1-5 we will stop at, and we'll roll into Puzzletown on an empty tank if we have to. I will now construct all possible paths, starting at 0 and eventually reaching 6."
   ]
  },
  {
   "cell_type": "markdown",
   "id": "dc853d84",
   "metadata": {},
   "source": [
    "In general, after charging at station $N$ we can always get to station $N+1$ or $N+2$.\n",
    "\n",
    "If we get to 5, then all that is left is to drive to Puzzletown. If we get to 4, then we could stop again at 5 or get all the way to Puzzletown. So we have 4-6 and 4-5-6.\n",
    "\n",
    "From 3 then we can have 3-4-6, 3-4-5-6, or 3-5-6. From 2, there are 5 paths (3 if we stop at station 3 and 2 if we go right to 4). From 1 there are 8 paths (5 from 2 and 3 from 3), and finally there are 13 paths starting from 0, 8 where we stop right at station 1 and 5 if our first stop is station 2.\n",
    "\n",
    "| Path |\n",
    "| --- |\n",
    "| 0-1-2-3-4-6 |\n",
    "| 0-1-2-3-4-5-6 |\n",
    "| 0-1-2-3-5-6 |\n",
    "| 0-1-2-4-6 |\n",
    "| 0-1-2-4-5-6 |\n",
    "| 0-1-3-4-6 |\n",
    "| 0-1-3-4-5-6 |\n",
    "| 0-1-3-5-6 |\n",
    "| 0-2-3-4-6 |\n",
    "| 0-2-3-4-5-6 |\n",
    "| 0-2-3-5-6 |\n",
    "| 0-2-4-6 |\n",
    "| 0-2-4-5-6 |"
   ]
  },
  {
   "cell_type": "markdown",
   "id": "ec9a3d59",
   "metadata": {},
   "source": [
    "Now, I'd like to find how long each path would take. Let T be the time it would take to travel 1,500 miles if we didn't have to stop. Let $\\tau$ be the time it takes to charge half a full chare, so charging from no power takes $2\\tau$. The time each path takes then depends on how many half (stops separated by 1 station) and full (stops separated by 2 stations) charges are required.\n",
    "\n",
    "Adding the charge information to each path looks like this (I'm assuming no charging is necessary in Puzzletown for now):\n",
    "\n",
    "| Path | Half charges | Full charges |\n",
    "| --- | --- | --- |\n",
    "| 0-1-2-3-4-6 | 4 | 0 |\n",
    "| 0-1-2-3-4-5-6 | 5 | 0 |\n",
    "| 0-1-2-3-5-6 | 3 | 1 |\n",
    "| 0-1-2-4-6 | 2 | 1 |\n",
    "| 0-1-2-4-5-6 | 3 | 1 |\n",
    "| 0-1-3-4-6 | 2 | 1 |\n",
    "| 0-1-3-4-5-6 | 3 | 1 |\n",
    "| 0-1-3-5-6 | 1 | 2 |\n",
    "| 0-2-3-4-6 | 2 | 1 |\n",
    "| 0-2-3-4-5-6 | 3 | 1 |\n",
    "| 0-2-3-5-6 | 1 | 2 |\n",
    "| 0-2-4-6 | 0 | 2 |\n",
    "| 0-2-4-5-6 | 1 | 2 |"
   ]
  },
  {
   "cell_type": "markdown",
   "id": "7f554401",
   "metadata": {},
   "source": [
    "Each half charge adds $\\tau$ to total travel time and each full charge adds $2\\tau$. So adding a column to represent the added time over the non-stop time $T$ gives:\n",
    "\n",
    "| Path | Half charges | Full charges | Time - $T$ |\n",
    "| --- | --- | --- | --- |\n",
    "| 0-1-2-3-4-6 | 4 | 0 | $4\\tau$ |\n",
    "| 0-1-2-3-4-5-6 | 5 | 0 | $5\\tau$ |\n",
    "| 0-1-2-3-5-6 | 3 | 1 | $5\\tau$ |\n",
    "| 0-1-2-4-6 | 2 | 1 | $4\\tau$ |\n",
    "| 0-1-2-4-5-6 | 3 | 1 | $5\\tau$ |\n",
    "| 0-1-3-4-6 | 2 | 1 | $4\\tau$ |\n",
    "| 0-1-3-4-5-6 | 3 | 1 | $5\\tau$ |\n",
    "| 0-1-3-5-6 | 1 | 2 | $5\\tau$ |\n",
    "| 0-2-3-4-6 | 2 | 1 | $4\\tau$ |\n",
    "| 0-2-3-4-5-6 | 3 | 1 | $5\\tau$ |\n",
    "| 0-2-3-5-6 | 1 | 2 | $5\\tau$ |\n",
    "| 0-2-4-6 | 0 | 2 | $4\\tau$ |\n",
    "| 0-2-4-5-6 | 1 | 2 | $5\\tau$ |\n",
    "\n",
    "So we can see that the minimum charging time is $4\\tau$ and there are 5 different paths we can take with that time: 0-1-2-3-4-6 (4 half charges), 0-1-2-4-6 (2 half, 1 full charge), 0-1-3-4-6 (2 half, 1 full charge), 0-2-3-4-6 (2 half, 1 full charge), 0-2-4-6 (2 full charges). All the best paths are where we make our last stop at station 4 and don't need to stop again until Puzzletown."
   ]
  },
  {
   "cell_type": "markdown",
   "id": "f45abd71",
   "metadata": {},
   "source": [
    "Now, I previously assumed that we don't care how much charge we have when we get to Puzzletown. Maybe that's not the case though, perhaps we have lots to do in Puzzletown and need to recharge once we get there. Or perhaps we are ok with having just half a charge to get us around town. I will now explore how this changes the possible itineraries.\n",
    "\n",
    "If we require a full charge when we get to Puzzletown (+1 half charge for 5-6 paths, +1 full charge for 4-6 paths):\n",
    "\n",
    "| Path | Half charges | Full charges | Time - $T$ |\n",
    "| --- | --- | --- | --- |\n",
    "| 0-1-2-3-4-6 | 4 | 1 | $6\\tau$ |\n",
    "| 0-1-2-3-4-5-6 | 6 | 0 | $6\\tau$ |\n",
    "| 0-1-2-3-5-6 | 4 | 1 | $6\\tau$ |\n",
    "| 0-1-2-4-6 | 2 | 2 | $6\\tau$ |\n",
    "| 0-1-2-4-5-6 | 4 | 1 | $6\\tau$ |\n",
    "| 0-1-3-4-6 | 2 | 2 | $6\\tau$ |\n",
    "| 0-1-3-4-5-6 | 4 | 1 | $6\\tau$ |\n",
    "| 0-1-3-5-6 | 2 | 2 | $6\\tau$ |\n",
    "| 0-2-3-4-6 | 2 | 2 | $6\\tau$ |\n",
    "| 0-2-3-4-5-6 | 4 | 1 | $6\\tau$ |\n",
    "| 0-2-3-5-6 | 2 | 2 | $6\\tau$ |\n",
    "| 0-2-4-6 | 0 | 3 | $6\\tau$ |\n",
    "| 0-2-4-5-6 | 2 | 2 | $6\\tau$ |\n",
    "\n",
    "So if we have to charge back up to a full charge once we get to Puzzletown it doesn't matter how we get there! I suppose this makes sense, we have to cover the 1,500 miles and we have to wait for exactly enough charge to get there with a full charge so in the end it doesn't really matter when we stop."
   ]
  },
  {
   "cell_type": "markdown",
   "id": "81dd3a7a",
   "metadata": {},
   "source": [
    "The last scenario to consider is perhaps we need some charge for getting aroud Puzzletown, but not necessarily a full charge. If we get to town with a half charge, we will be fine, but if we roll in with no charge left, we will need to charge up again to do anything in town. Then 5-6 paths don't need a charge, but 4-6 paths need a full charge:\n",
    "\n",
    "| Path | Half charges | Full charges | Time - $T$ |\n",
    "| --- | --- | --- | --- |\n",
    "| 0-1-2-3-4-6 | 4 | 1 | $6\\tau$ |\n",
    "| 0-1-2-3-4-5-6 | 5 | 0 | $5\\tau$ |\n",
    "| 0-1-2-3-5-6 | 3 | 1 | $5\\tau$ |\n",
    "| 0-1-2-4-6 | 2 | 2 | $6\\tau$ |\n",
    "| 0-1-2-4-5-6 | 3 | 1 | $5\\tau$ |\n",
    "| 0-1-3-4-6 | 2 | 2 | $6\\tau$ |\n",
    "| 0-1-3-4-5-6 | 3 | 1 | $5\\tau$ |\n",
    "| 0-1-3-5-6 | 1 | 2 | $5\\tau$ |\n",
    "| 0-2-3-4-6 | 2 | 2 | $6\\tau$ |\n",
    "| 0-2-3-4-5-6 | 3 | 1 | $5\\tau$ |\n",
    "| 0-2-3-5-6 | 1 | 2 | $5\\tau$ |\n",
    "| 0-2-4-6 | 0 | 3 | $6\\tau$ |\n",
    "| 0-2-4-5-6 | 1 | 2 | $5\\tau$ |\n",
    "\n",
    "Now in this scenario, the 8 5-6 paths are best, as they only require $5\\tau$ charging time since they don't need any charging in Puzzletown."
   ]
  },
  {
   "cell_type": "markdown",
   "id": "406cce5c",
   "metadata": {},
   "source": [
    "If I had to choose the most realistic scenario, I think scenario 3 where we need some charge in Puzzletown is the best. Additionally, when we stop we need to decelerate, pull off the road, etc. So I think we should also try to minimize the total number of stops. So with these conditions I think overall 0-1-3-5-6, 0-2-3-5-6, or 0-2-4-5-6 would be the best options."
   ]
  },
  {
   "cell_type": "code",
   "execution_count": null,
   "id": "dce1dbf4",
   "metadata": {},
   "outputs": [],
   "source": []
  }
 ],
 "metadata": {
  "kernelspec": {
   "display_name": "Python 3 (ipykernel)",
   "language": "python",
   "name": "python3"
  },
  "language_info": {
   "codemirror_mode": {
    "name": "ipython",
    "version": 3
   },
   "file_extension": ".py",
   "mimetype": "text/x-python",
   "name": "python",
   "nbconvert_exporter": "python",
   "pygments_lexer": "ipython3",
   "version": "3.9.12"
  }
 },
 "nbformat": 4,
 "nbformat_minor": 5
}
