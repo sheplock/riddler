{
 "cells": [
  {
   "cell_type": "markdown",
   "id": "fd1e7f14",
   "metadata": {},
   "source": [
    "# https://fivethirtyeight.com/features/can-you-find-your-pills/\n",
    "\n",
    "## Riddler Classic\n",
    "\n",
    "I’ve been prescribed to take 1.5 pills of a certain medication every day for 10 days, so I have a bottle with 15 pills. Each morning, I take two pills out of the bottle at random.\n",
    "\n",
    "On the first morning, these are guaranteed to be two full pills. I consume one of them, split the other in half using a precision blade, consume half of that second pill, and place the remaining half back into the bottle.\n",
    "\n",
    "On subsequent mornings when I take out two pills, there are three possibilities:\n",
    "\n",
    "* I get two full pills. As on the first morning, I split one and place the unused half back into the bottle.\n",
    "* I get one full pill and one half-pill, both of which I consume.\n",
    "* I get two half-pills. In this case, I take out another pill at random. If it’s a half-pill, then I consume all three halves. But if it’s a full pill, I split it and place the unused half back in the bottle.\n",
    "\n",
    "Assume that each pill — whether it is a full pill or a half-pill — is equally likely to be taken out of the bottle.\n",
    "\n",
    "On the 10th day, I again take out two pills and consume them. In a rush, I immediately throw the bottle in the trash before bothering to check whether I had just consumed full pills or half-pills. What’s the probability that I took the full dosage, meaning I don’t have to dig through the trash for a remaining half-pill?"
   ]
  },
  {
   "cell_type": "markdown",
   "id": "b8cabfb9",
   "metadata": {},
   "source": [
    "### Solution\n",
    "\n",
    "On Day 1, I will pick 2 full pills and split one, leaving 13 full pills and 1 half pill.\n",
    "\n",
    "On Day 2, I could pick 2 full pills, with $p = \\frac{13}{14} \\cdot \\frac{12}{13} = \\frac{6}{7}$, leaving 11 full pills and 2 half pills, or I could pick 1 full pill and 1 half pill with $p = \\frac{13}{14} \\cdot \\frac{1}{13} + \\frac{1}{14} \\cdot \\frac{13}{13} = \\frac{1}{7}$, leaving 12 full pills."
   ]
  },
  {
   "cell_type": "markdown",
   "id": "dfe3af65",
   "metadata": {},
   "source": [
    "Consider a day with $F$ full pills, $H$ hall pills, and $T = F + H$ total pills. Then the possible scenarios are summarized below:\n",
    "\n",
    "| Pills picked | Probability | Pills left |\n",
    "| :---: | :---: | :--- |\n",
    "| 2 full | $$\\begin{cases} 0  & F \\leq 1 \\\\ \\frac{F(F-1)}{T(T-1)} & F \\geq 2 \\end{cases}$$ | F - 2 full <br /> H + 1 half <br /> T - 1 total |\n",
    "|1 full, 1 half | $$\\begin{cases} 0  & F = 0 \\text{ or } H = 0 \\\\ \\frac{2FH}{T(T-1)} & \\text{otherwise} \\end{cases}$$ | F - 1 full <br /> H - 1 half <br /> T - 2 total |\n",
    "|2 half then 1 full | $$\\begin{cases} 0  & F = 0 \\text{ or } H \\leq 1 \\\\ \\frac{H(H-1)F}{T(T-1)(T-2)} & \\text{otherwise} \\end{cases}$$ | F - 1 full <br /> H - 1 half <br /> T - 2 total |\n",
    "|2 half then 1 half | $$\\begin{cases} 0  & H \\leq 2 \\\\ \\frac{H(H-1)(H-2)}{T(T-1)(T-2)} & \\text{otherwise} \\end{cases}$$ | F full <br /> H - 3 half <br /> T - 3 total |\n",
    "\n",
    "Let's write some functions to calculate these probabilities, since I think I may have to just brute force this problem."
   ]
  },
  {
   "cell_type": "code",
   "execution_count": 14,
   "id": "d7c20d12",
   "metadata": {},
   "outputs": [],
   "source": [
    "import networkx as nx\n",
    "import numpy as np\n",
    "import matplotlib.pyplot as plt"
   ]
  },
  {
   "cell_type": "code",
   "execution_count": 15,
   "id": "0730618d",
   "metadata": {},
   "outputs": [],
   "source": [
    "def twoFull(F, H):\n",
    "    if F <= 1:\n",
    "        return 0\n",
    "    else:\n",
    "        return F*(F-1)/((F+H)*(F+H-1))\n",
    "    \n",
    "def oneFull_oneHalf(F, H):\n",
    "    if F == 0 or H == 0:\n",
    "        return 0\n",
    "    else:\n",
    "        return 2*F*H/((F+H)*(F+H-1))\n",
    "\n",
    "    \n",
    "def twoHalf_oneFull(F, H):\n",
    "    if F == 0 or H <= 1:\n",
    "        return 0\n",
    "    else:\n",
    "        return H*(H-1)*F/((F+H)*(F+H-1)*(F+H-2))\n",
    "    \n",
    "def twoHalf_oneHalf(F, H):\n",
    "    if H <= 2:\n",
    "        return 0\n",
    "    else:\n",
    "        return H*(H-1)*(H-2)/((F+H)*(F+H-1)*(F+H-2))\n",
    "    \n",
    "def pickPills(F, H):\n",
    "    T = F + H\n",
    "    if twoFull(F, H) == 0:\n",
    "        print(f\"Probability of choosing 2 full pills is 0\")\n",
    "    else:\n",
    "        print(f\"Probability of choosing 2 full pills, \"\n",
    "              f\"leaving {F-2} full and {H+1} half pills is {round(twoFull(F, H),2)}\")\n",
    "    if oneFull_oneHalf(F, H) == 0:\n",
    "        print(f\"Probability of choosing 1 full pill and 1 half pill is 0\")\n",
    "    else:\n",
    "        print(f\"Probability of choosing 1 full pill and 1 half pill, \"\n",
    "              f\"leaving {F-1} full and {H-1} half pills is {round(oneFull_oneHalf(F, H),2)}\")        \n",
    "    if twoHalf_oneFull(F, H) == 0:\n",
    "        print(f\"Probability of choosing 2 half pills then 1 full pill is 0\")\n",
    "    else:\n",
    "        print(f\"Probability of choosing 2 half pills then 1 full pill, \"\n",
    "              f\"leaving {F-1} full and {H-1} half pills is {round(twoHalf_oneFull(F, H),2)}\")        \n",
    "    if twoHalf_oneHalf(F, H) == 0:\n",
    "        print(f\"Probability of choosing 2 half pills then 1 half pill is 0\")\n",
    "    else:\n",
    "        print(f\"Probability of choosing 2 half pills then 1 half pill, \"\n",
    "              f\"leaving {F} full and {H-3} half pills is {round(twoHalf_oneHalf(F, H),2)}\")"
   ]
  },
  {
   "cell_type": "markdown",
   "id": "b930e81d",
   "metadata": {},
   "source": [
    "We can see the possibilities of each day. Repeating days 1 and 2:"
   ]
  },
  {
   "cell_type": "code",
   "execution_count": 16,
   "id": "806e01a4",
   "metadata": {},
   "outputs": [
    {
     "name": "stdout",
     "output_type": "stream",
     "text": [
      "Probability of choosing 2 full pills, leaving 13 full and 1 half pills is 1.0\n",
      "Probability of choosing 1 full pill and 1 half pill is 0\n",
      "Probability of choosing 2 half pills then 1 full pill is 0\n",
      "Probability of choosing 2 half pills then 1 half pill is 0\n"
     ]
    }
   ],
   "source": [
    "pickPills(15, 0)"
   ]
  },
  {
   "cell_type": "code",
   "execution_count": 17,
   "id": "d276b4d4",
   "metadata": {},
   "outputs": [
    {
     "name": "stdout",
     "output_type": "stream",
     "text": [
      "Probability of choosing 2 full pills, leaving 11 full and 2 half pills is 0.86\n",
      "Probability of choosing 1 full pill and 1 half pill, leaving 12 full and 0 half pills is 0.14\n",
      "Probability of choosing 2 half pills then 1 full pill is 0\n",
      "Probability of choosing 2 half pills then 1 half pill is 0\n"
     ]
    }
   ],
   "source": [
    "pickPills(13, 1)"
   ]
  },
  {
   "cell_type": "markdown",
   "id": "bae20e32",
   "metadata": {},
   "source": [
    "Now, I just need a better way of cumulatively keeping track of all the possibilities and probabilities over the 10 days. As a first step, I will construct a dictionary where the keys are tuples of all possible $(F,H)$ combinations. The values will be dictionaries themselves, with keys representing the possible $(F',H')$ combinations reachable from $(F,H)$ and the values will be the probability of getting there. This will hopefully be a map that can then be used to work from Day 1 to Day 10."
   ]
  },
  {
   "cell_type": "code",
   "execution_count": 22,
   "id": "29a95a08",
   "metadata": {},
   "outputs": [],
   "source": [
    "pillDic = {}\n",
    "for F in range(0,16):\n",
    "    for H in range(0,8):\n",
    "        pillDic[(F,H)] = {}\n",
    "        if twoFull(F, H) != 0:\n",
    "            pillDic[(F,H)][(F-2,H+1)] = twoFull(F, H)\n",
    "        if oneFull_oneHalf(F, H) != 0:\n",
    "            pillDic[(F,H)][(F-1,H-1)] = oneFull_oneHalf(F, H)\n",
    "        if twoHalf_oneFull(F, H) != 0:\n",
    "            if (F-1,H-1) in pillDic[(F,H)].keys():\n",
    "                pillDic[(F,H)][(F-1,H-1)] += twoHalf_oneFull(F, H)\n",
    "            else:\n",
    "                pillDic[(F,H)][(F-1,H-1)] = twoHalf_oneFull(F, H)\n",
    "        if twoHalf_oneHalf(F, H) != 0:\n",
    "            pillDic[(F,H)][(F,H-3)] = twoHalf_oneHalf(F, H)"
   ]
  },
  {
   "cell_type": "code",
   "execution_count": 23,
   "id": "2c3a685b",
   "metadata": {},
   "outputs": [
    {
     "data": {
      "text/plain": [
       "{(0, 3): {(0, 0): 1.0},\n",
       " (0, 4): {(0, 1): 1.0},\n",
       " (0, 5): {(0, 2): 1.0},\n",
       " (0, 6): {(0, 3): 1.0},\n",
       " (0, 7): {(0, 4): 1.0},\n",
       " (1, 1): {(0, 0): 1.0},\n",
       " (1, 2): {(0, 1): 1.0},\n",
       " (1, 3): {(0, 2): 0.75, (1, 0): 0.25},\n",
       " (1, 4): {(0, 3): 0.6000000000000001, (1, 1): 0.4},\n",
       " (1, 5): {(0, 4): 0.5, (1, 2): 0.5},\n",
       " (1, 6): {(0, 5): 0.42857142857142855, (1, 3): 0.5714285714285714},\n",
       " (1, 7): {(0, 6): 0.375, (1, 4): 0.625},\n",
       " (2, 0): {(0, 1): 1.0},\n",
       " (2, 1): {(0, 2): 0.3333333333333333, (1, 0): 0.6666666666666666},\n",
       " (2, 2): {(0, 3): 0.16666666666666666, (1, 1): 0.8333333333333333},\n",
       " (2, 3): {(0, 4): 0.1, (1, 2): 0.8, (2, 0): 0.1},\n",
       " (2, 4): {(0, 5): 0.06666666666666667,\n",
       "  (1, 3): 0.7333333333333334,\n",
       "  (2, 1): 0.2},\n",
       " (2, 5): {(0, 6): 0.047619047619047616,\n",
       "  (1, 4): 0.6666666666666666,\n",
       "  (2, 2): 0.2857142857142857},\n",
       " (2, 6): {(0, 7): 0.03571428571428571,\n",
       "  (1, 5): 0.6071428571428571,\n",
       "  (2, 3): 0.35714285714285715},\n",
       " (2, 7): {(0, 8): 0.027777777777777776,\n",
       "  (1, 6): 0.5555555555555556,\n",
       "  (2, 4): 0.4166666666666667},\n",
       " (3, 0): {(1, 1): 1.0},\n",
       " (3, 1): {(1, 2): 0.5, (2, 0): 0.5},\n",
       " (3, 2): {(1, 3): 0.3, (2, 1): 0.7},\n",
       " (3, 3): {(1, 4): 0.2, (2, 2): 0.75, (3, 0): 0.05},\n",
       " (3, 4): {(1, 5): 0.14285714285714285,\n",
       "  (2, 3): 0.7428571428571429,\n",
       "  (3, 1): 0.11428571428571428},\n",
       " (3, 5): {(1, 6): 0.10714285714285714,\n",
       "  (2, 4): 0.7142857142857143,\n",
       "  (3, 2): 0.17857142857142858},\n",
       " (3, 6): {(1, 7): 0.08333333333333333,\n",
       "  (2, 5): 0.6785714285714286,\n",
       "  (3, 3): 0.23809523809523808},\n",
       " (3, 7): {(1, 8): 0.06666666666666667,\n",
       "  (2, 6): 0.6416666666666666,\n",
       "  (3, 4): 0.2916666666666667},\n",
       " (4, 0): {(2, 1): 1.0},\n",
       " (4, 1): {(2, 2): 0.6, (3, 0): 0.4},\n",
       " (4, 2): {(2, 3): 0.4, (3, 1): 0.6},\n",
       " (4, 3): {(2, 4): 0.2857142857142857,\n",
       "  (3, 2): 0.6857142857142857,\n",
       "  (4, 0): 0.02857142857142857},\n",
       " (4, 4): {(2, 5): 0.21428571428571427,\n",
       "  (3, 3): 0.7142857142857142,\n",
       "  (4, 1): 0.07142857142857142},\n",
       " (4, 5): {(2, 6): 0.16666666666666666,\n",
       "  (3, 4): 0.7142857142857143,\n",
       "  (4, 2): 0.11904761904761904},\n",
       " (4, 6): {(2, 7): 0.13333333333333333,\n",
       "  (3, 5): 0.7,\n",
       "  (4, 3): 0.16666666666666666},\n",
       " (4, 7): {(2, 8): 0.10909090909090909,\n",
       "  (3, 6): 0.6787878787878787,\n",
       "  (4, 4): 0.21212121212121213},\n",
       " (5, 0): {(3, 1): 1.0},\n",
       " (5, 1): {(3, 2): 0.6666666666666666, (4, 0): 0.3333333333333333},\n",
       " (5, 2): {(3, 3): 0.47619047619047616, (4, 1): 0.5238095238095237},\n",
       " (5, 3): {(3, 4): 0.35714285714285715,\n",
       "  (4, 2): 0.625,\n",
       "  (5, 0): 0.017857142857142856},\n",
       " (5, 4): {(3, 5): 0.2777777777777778,\n",
       "  (4, 3): 0.6746031746031746,\n",
       "  (5, 1): 0.047619047619047616},\n",
       " (5, 5): {(3, 6): 0.2222222222222222,\n",
       "  (4, 4): 0.6944444444444444,\n",
       "  (5, 2): 0.08333333333333333},\n",
       " (5, 6): {(3, 7): 0.18181818181818182,\n",
       "  (4, 5): 0.6969696969696969,\n",
       "  (5, 3): 0.12121212121212122},\n",
       " (5, 7): {(3, 8): 0.15151515151515152,\n",
       "  (4, 6): 0.6893939393939393,\n",
       "  (5, 4): 0.1590909090909091},\n",
       " (6, 0): {(4, 1): 1.0},\n",
       " (6, 1): {(4, 2): 0.7142857142857143, (5, 0): 0.2857142857142857},\n",
       " (6, 2): {(4, 3): 0.5357142857142857, (5, 1): 0.46428571428571425},\n",
       " (6, 3): {(4, 4): 0.4166666666666667,\n",
       "  (5, 2): 0.5714285714285714,\n",
       "  (6, 0): 0.011904761904761904},\n",
       " (6, 4): {(4, 5): 0.3333333333333333,\n",
       "  (5, 3): 0.6333333333333333,\n",
       "  (6, 1): 0.03333333333333333},\n",
       " (6, 5): {(4, 6): 0.2727272727272727,\n",
       "  (5, 4): 0.6666666666666666,\n",
       "  (6, 2): 0.06060606060606061},\n",
       " (6, 6): {(4, 7): 0.22727272727272727,\n",
       "  (5, 5): 0.6818181818181818,\n",
       "  (6, 3): 0.09090909090909091},\n",
       " (6, 7): {(4, 8): 0.19230769230769232,\n",
       "  (5, 6): 0.6853146853146853,\n",
       "  (6, 4): 0.12237762237762238},\n",
       " (7, 0): {(5, 1): 1.0},\n",
       " (7, 1): {(5, 2): 0.75, (6, 0): 0.25},\n",
       " (7, 2): {(5, 3): 0.5833333333333334, (6, 1): 0.4166666666666667},\n",
       " (7, 3): {(5, 4): 0.4666666666666667,\n",
       "  (6, 2): 0.525,\n",
       "  (7, 0): 0.008333333333333333},\n",
       " (7, 4): {(5, 5): 0.38181818181818183,\n",
       "  (6, 3): 0.5939393939393939,\n",
       "  (7, 1): 0.024242424242424242},\n",
       " (7, 5): {(5, 6): 0.3181818181818182,\n",
       "  (6, 4): 0.6363636363636364,\n",
       "  (7, 2): 0.045454545454545456},\n",
       " (7, 6): {(5, 7): 0.2692307692307692,\n",
       "  (6, 5): 0.6608391608391608,\n",
       "  (7, 3): 0.06993006993006994},\n",
       " (7, 7): {(5, 8): 0.23076923076923078,\n",
       "  (6, 6): 0.673076923076923,\n",
       "  (7, 4): 0.09615384615384616},\n",
       " (8, 0): {(6, 1): 1.0},\n",
       " (8, 1): {(6, 2): 0.7777777777777778, (7, 0): 0.2222222222222222},\n",
       " (8, 2): {(6, 3): 0.6222222222222222, (7, 1): 0.37777777777777777},\n",
       " (8, 3): {(6, 4): 0.509090909090909,\n",
       "  (7, 2): 0.4848484848484848,\n",
       "  (8, 0): 0.006060606060606061},\n",
       " (8, 4): {(6, 5): 0.42424242424242425,\n",
       "  (7, 3): 0.5575757575757576,\n",
       "  (8, 1): 0.01818181818181818},\n",
       " (8, 5): {(6, 6): 0.358974358974359,\n",
       "  (7, 4): 0.606060606060606,\n",
       "  (8, 2): 0.03496503496503497},\n",
       " (8, 6): {(6, 7): 0.3076923076923077,\n",
       "  (7, 5): 0.6373626373626373,\n",
       "  (8, 3): 0.054945054945054944},\n",
       " (8, 7): {(6, 8): 0.26666666666666666,\n",
       "  (7, 6): 0.6564102564102564,\n",
       "  (8, 4): 0.07692307692307693},\n",
       " (9, 0): {(7, 1): 1.0},\n",
       " (9, 1): {(7, 2): 0.8, (8, 0): 0.2},\n",
       " (9, 2): {(7, 3): 0.6545454545454545, (8, 1): 0.34545454545454546},\n",
       " (9, 3): {(7, 4): 0.5454545454545454,\n",
       "  (8, 2): 0.45,\n",
       "  (9, 0): 0.004545454545454545},\n",
       " (9, 4): {(7, 5): 0.46153846153846156,\n",
       "  (8, 3): 0.5244755244755245,\n",
       "  (9, 1): 0.013986013986013986},\n",
       " (9, 5): {(7, 6): 0.3956043956043956,\n",
       "  (8, 4): 0.576923076923077,\n",
       "  (9, 2): 0.027472527472527472},\n",
       " (9, 6): {(7, 7): 0.34285714285714286,\n",
       "  (8, 5): 0.6131868131868131,\n",
       "  (9, 3): 0.04395604395604396},\n",
       " (9, 7): {(7, 8): 0.3, (8, 6): 0.6375000000000001, (9, 4): 0.0625},\n",
       " (10, 0): {(8, 1): 1.0},\n",
       " (10, 1): {(8, 2): 0.8181818181818182, (9, 0): 0.18181818181818182},\n",
       " (10, 2): {(8, 3): 0.6818181818181818, (9, 1): 0.3181818181818182},\n",
       " (10, 3): {(8, 4): 0.5769230769230769,\n",
       "  (9, 2): 0.4195804195804196,\n",
       "  (10, 0): 0.0034965034965034965},\n",
       " (10, 4): {(8, 5): 0.4945054945054945,\n",
       "  (9, 3): 0.4945054945054945,\n",
       "  (10, 1): 0.01098901098901099},\n",
       " (10, 5): {(8, 6): 0.42857142857142855,\n",
       "  (9, 4): 0.5494505494505494,\n",
       "  (10, 2): 0.02197802197802198},\n",
       " (10, 6): {(8, 7): 0.375,\n",
       "  (9, 5): 0.5892857142857143,\n",
       "  (10, 3): 0.03571428571428571},\n",
       " (10, 7): {(8, 8): 0.33088235294117646,\n",
       "  (9, 6): 0.6176470588235293,\n",
       "  (10, 4): 0.051470588235294115},\n",
       " (11, 0): {(9, 1): 1.0},\n",
       " (11, 1): {(9, 2): 0.8333333333333334, (10, 0): 0.16666666666666666},\n",
       " (11, 2): {(9, 3): 0.7051282051282052, (10, 1): 0.2948717948717949},\n",
       " (11, 3): {(9, 4): 0.6043956043956044,\n",
       "  (10, 2): 0.39285714285714285,\n",
       "  (11, 0): 0.0027472527472527475},\n",
       " (11, 4): {(9, 5): 0.5238095238095238,\n",
       "  (10, 3): 0.4673992673992674,\n",
       "  (11, 1): 0.008791208791208791},\n",
       " (11, 5): {(9, 6): 0.4583333333333333,\n",
       "  (10, 4): 0.5238095238095238,\n",
       "  (11, 2): 0.017857142857142856},\n",
       " (11, 6): {(9, 7): 0.40441176470588236,\n",
       "  (10, 5): 0.5661764705882353,\n",
       "  (11, 3): 0.029411764705882353},\n",
       " (11, 7): {(9, 8): 0.35947712418300654,\n",
       "  (10, 6): 0.5976307189542484,\n",
       "  (11, 4): 0.0428921568627451},\n",
       " (12, 0): {(10, 1): 1.0},\n",
       " (12, 1): {(10, 2): 0.8461538461538461, (11, 0): 0.15384615384615385},\n",
       " (12, 2): {(10, 3): 0.7252747252747253, (11, 1): 0.27472527472527475},\n",
       " (12, 3): {(10, 4): 0.6285714285714286,\n",
       "  (11, 2): 0.36923076923076925,\n",
       "  (12, 0): 0.002197802197802198},\n",
       " (12, 4): {(10, 5): 0.55,\n",
       "  (11, 3): 0.4428571428571429,\n",
       "  (12, 1): 0.007142857142857143},\n",
       " (12, 5): {(10, 6): 0.4852941176470588,\n",
       "  (11, 4): 0.5,\n",
       "  (12, 2): 0.014705882352941176},\n",
       " (12, 6): {(10, 7): 0.43137254901960786,\n",
       "  (11, 5): 0.5441176470588235,\n",
       "  (12, 3): 0.024509803921568627},\n",
       " (12, 7): {(10, 8): 0.38596491228070173,\n",
       "  (11, 6): 0.5779153766769866,\n",
       "  (12, 4): 0.03611971104231166},\n",
       " (13, 0): {(11, 1): 1.0},\n",
       " (13, 1): {(11, 2): 0.8571428571428571, (12, 0): 0.14285714285714285},\n",
       " (13, 2): {(11, 3): 0.7428571428571429, (12, 1): 0.2571428571428572},\n",
       " (13, 3): {(11, 4): 0.65,\n",
       "  (12, 2): 0.3482142857142857,\n",
       "  (13, 0): 0.0017857142857142857},\n",
       " (13, 4): {(11, 5): 0.5735294117647058,\n",
       "  (12, 3): 0.4205882352941176,\n",
       "  (13, 1): 0.0058823529411764705},\n",
       " (13, 5): {(11, 6): 0.5098039215686274,\n",
       "  (12, 4): 0.4779411764705882,\n",
       "  (13, 2): 0.012254901960784314},\n",
       " (13, 6): {(11, 7): 0.45614035087719296,\n",
       "  (12, 5): 0.523219814241486,\n",
       "  (13, 3): 0.02063983488132095},\n",
       " (13, 7): {(11, 8): 0.4105263157894737,\n",
       "  (12, 6): 0.5587719298245614,\n",
       "  (13, 4): 0.03070175438596491},\n",
       " (14, 0): {(12, 1): 1.0},\n",
       " (14, 1): {(12, 2): 0.8666666666666667, (13, 0): 0.13333333333333333},\n",
       " (14, 2): {(12, 3): 0.7583333333333333, (13, 1): 0.24166666666666667},\n",
       " (14, 3): {(12, 4): 0.6691176470588235,\n",
       "  (13, 2): 0.32941176470588235,\n",
       "  (14, 0): 0.0014705882352941176},\n",
       " (14, 4): {(12, 5): 0.5947712418300654,\n",
       "  (13, 3): 0.4003267973856209,\n",
       "  (14, 1): 0.004901960784313725},\n",
       " (14, 5): {(12, 6): 0.5321637426900585,\n",
       "  (13, 4): 0.45751633986928103,\n",
       "  (14, 2): 0.010319917440660475},\n",
       " (14, 6): {(12, 7): 0.4789473684210526,\n",
       "  (13, 5): 0.5035087719298246,\n",
       "  (14, 3): 0.017543859649122806},\n",
       " (14, 7): {(12, 8): 0.43333333333333335,\n",
       "  (13, 6): 0.5403508771929825,\n",
       "  (14, 4): 0.02631578947368421},\n",
       " (15, 0): {(13, 1): 1.0},\n",
       " (15, 1): {(13, 2): 0.875, (14, 0): 0.125},\n",
       " (15, 2): {(13, 3): 0.7720588235294118, (14, 1): 0.22794117647058823},\n",
       " (15, 3): {(13, 4): 0.6862745098039216,\n",
       "  (14, 2): 0.3125,\n",
       "  (15, 0): 0.0012254901960784314},\n",
       " (15, 4): {(13, 5): 0.6140350877192983,\n",
       "  (14, 3): 0.38183694530443757,\n",
       "  (15, 1): 0.0041279669762641896},\n",
       " (15, 5): {(13, 6): 0.5526315789473685,\n",
       "  (14, 4): 0.4385964912280702,\n",
       "  (15, 2): 0.008771929824561403},\n",
       " (15, 6): {(13, 7): 0.5,\n",
       "  (14, 5): 0.4849624060150376,\n",
       "  (15, 3): 0.015037593984962405},\n",
       " (15, 7): {(13, 8): 0.45454545454545453,\n",
       "  (14, 6): 0.5227272727272727,\n",
       "  (15, 4): 0.022727272727272728}}"
      ]
     },
     "execution_count": 23,
     "metadata": {},
     "output_type": "execute_result"
    }
   ],
   "source": [
    "slimmedDic = {k: v for k, v in pillDic.items() if len(v)>0}\n",
    "slimmedDic"
   ]
  },
  {
   "cell_type": "markdown",
   "id": "24670586",
   "metadata": {},
   "source": [
    "Now that I have the dictionary which, given a configuration of $(F,H)$ full, half pills, returns the possible scenarios after choosing pills along with the probability of reaching those states. Now I can just go through all possibilities starting with $(15, 0)$ on Day 1 to see what happens on Day 10."
   ]
  },
  {
   "cell_type": "code",
   "execution_count": 32,
   "id": "f119a554",
   "metadata": {},
   "outputs": [],
   "source": [
    "def addDay(possibleConfigs):\n",
    "    day = len(possibleConfigs) + 1\n",
    "    newConfigs = {}\n",
    "    for config, prob in possibleConfigs[day-1].items():\n",
    "        for newConfig, newProb in slimmedDic[config].items():\n",
    "            if newConfig in newConfigs.keys():\n",
    "                newConfigs[newConfig] += newProb*prob\n",
    "            else:\n",
    "                newConfigs[newConfig] = newProb*prob\n",
    "    possibleConfigs[day] = newConfigs"
   ]
  },
  {
   "cell_type": "code",
   "execution_count": 33,
   "id": "c19e6ec5",
   "metadata": {},
   "outputs": [
    {
     "name": "stdout",
     "output_type": "stream",
     "text": [
      "{1: {(15, 0): 1.0}, 2: {(13, 1): 1.0}}\n"
     ]
    }
   ],
   "source": [
    "possibleConfigs = {1: {(15,0): 1.0}}\n",
    "addDay(possibleConfigs)\n",
    "print(possibleConfigs)"
   ]
  },
  {
   "cell_type": "code",
   "execution_count": 34,
   "id": "9566157f",
   "metadata": {},
   "outputs": [
    {
     "name": "stdout",
     "output_type": "stream",
     "text": [
      "{1: {(15, 0): 1.0}, 2: {(13, 1): 1.0}, 3: {(11, 2): 0.8571428571428571, (12, 0): 0.14285714285714285}}\n"
     ]
    }
   ],
   "source": [
    "addDay(possibleConfigs)\n",
    "print(possibleConfigs)"
   ]
  },
  {
   "cell_type": "markdown",
   "id": "6f392c12",
   "metadata": {},
   "source": [
    "Things look good for the first two days, so I will proceed to Day 10."
   ]
  },
  {
   "cell_type": "code",
   "execution_count": 37,
   "id": "3915e14d",
   "metadata": {},
   "outputs": [
    {
     "data": {
      "text/plain": [
       "{1: {(15, 0): 1.0},\n",
       " 2: {(13, 1): 1.0},\n",
       " 3: {(11, 2): 0.8571428571428571, (12, 0): 0.14285714285714285},\n",
       " 4: {(9, 3): 0.6043956043956044, (10, 1): 0.3956043956043956},\n",
       " 5: {(7, 4): 0.3296703296703296,\n",
       "  (8, 2): 0.5956543456543457,\n",
       "  (9, 0): 0.07467532467532467},\n",
       " 6: {(5, 5): 0.12587412587412586,\n",
       "  (6, 3): 0.5664335664335665,\n",
       "  (7, 1): 0.3076923076923077},\n",
       " 7: {(3, 6): 0.02797202797202797,\n",
       "  (4, 4): 0.32342657342657344,\n",
       "  (5, 2): 0.5649350649350648,\n",
       "  (6, 0): 0.08366633366633366},\n",
       " 8: {(1, 7): 0.0023310023310023306,\n",
       "  (2, 5): 0.08828671328671328,\n",
       "  (3, 3): 0.5066956852671137,\n",
       "  (4, 1): 0.40268659911517046},\n",
       " 9: {(0, 6): 0.005078255078255078,\n",
       "  (1, 4): 0.16165382236810805,\n",
       "  (2, 2): 0.6468584986442127,\n",
       "  (3, 0): 0.1864094239094239},\n",
       " 10: {(0, 3): 0.20988029827315535, (1, 1): 0.7901197017268444}}"
      ]
     },
     "execution_count": 37,
     "metadata": {},
     "output_type": "execute_result"
    }
   ],
   "source": [
    "possibleConfigs = {1: {(15,0): 1.0}}\n",
    "while len(possibleConfigs) < 10:\n",
    "    addDay(possibleConfigs)\n",
    "possibleConfigs"
   ]
  },
  {
   "cell_type": "markdown",
   "id": "71808db3",
   "metadata": {},
   "source": [
    "Looks like on Day 10 there is $~21\\%$ chance that there will be 3 half pills and a $~79\\%$ chance that there is 1 full pill and 1 half pill, meaning there is a $79\\%$ chance I don't have to dig through the trash after taking 2 pills and disposing of the bottle!\n",
    "\n",
    "I'll do one quick check just to make sure at the very least the probabilities each day sum to 1 so nothing obviously went very wrong during these steps."
   ]
  },
  {
   "cell_type": "code",
   "execution_count": 38,
   "id": "9be0df9e",
   "metadata": {},
   "outputs": [
    {
     "name": "stdout",
     "output_type": "stream",
     "text": [
      "1  :  1.0\n",
      "2  :  1.0\n",
      "3  :  1.0\n",
      "4  :  1.0\n",
      "5  :  1.0\n",
      "6  :  1.0\n",
      "7  :  1.0\n",
      "8  :  0.9999999999999998\n",
      "9  :  0.9999999999999998\n",
      "10  :  0.9999999999999998\n"
     ]
    }
   ],
   "source": [
    "for day, configDic in possibleConfigs.items():\n",
    "    totalProb = 0\n",
    "    for config, prob in configDic.items():\n",
    "        totalProb += prob\n",
    "    print(day,\" : \",totalProb)"
   ]
  },
  {
   "cell_type": "markdown",
   "id": "d4606fc3",
   "metadata": {},
   "source": [
    "Close enough!"
   ]
  },
  {
   "cell_type": "code",
   "execution_count": null,
   "id": "850d0e8c",
   "metadata": {},
   "outputs": [],
   "source": []
  }
 ],
 "metadata": {
  "kernelspec": {
   "display_name": "Python 3 (ipykernel)",
   "language": "python",
   "name": "python3"
  },
  "language_info": {
   "codemirror_mode": {
    "name": "ipython",
    "version": 3
   },
   "file_extension": ".py",
   "mimetype": "text/x-python",
   "name": "python",
   "nbconvert_exporter": "python",
   "pygments_lexer": "ipython3",
   "version": "3.9.12"
  }
 },
 "nbformat": 4,
 "nbformat_minor": 5
}
